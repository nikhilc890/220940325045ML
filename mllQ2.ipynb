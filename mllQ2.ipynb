{
 "cells": [
  {
   "cell_type": "code",
   "execution_count": 1,
   "id": "3831e8a9",
   "metadata": {},
   "outputs": [],
   "source": [
    "import numpy as np\n",
    "import pandas as pd\n",
    "import matplotlib.pyplot as plt"
   ]
  },
  {
   "cell_type": "code",
   "execution_count": 25,
   "id": "6cf1cabb",
   "metadata": {},
   "outputs": [
    {
     "data": {
      "text/html": [
       "<div>\n",
       "<style scoped>\n",
       "    .dataframe tbody tr th:only-of-type {\n",
       "        vertical-align: middle;\n",
       "    }\n",
       "\n",
       "    .dataframe tbody tr th {\n",
       "        vertical-align: top;\n",
       "    }\n",
       "\n",
       "    .dataframe thead th {\n",
       "        text-align: right;\n",
       "    }\n",
       "</style>\n",
       "<table border=\"1\" class=\"dataframe\">\n",
       "  <thead>\n",
       "    <tr style=\"text-align: right;\">\n",
       "      <th></th>\n",
       "      <th>observation</th>\n",
       "      <th>feature</th>\n",
       "      <th>price</th>\n",
       "    </tr>\n",
       "  </thead>\n",
       "  <tbody>\n",
       "    <tr>\n",
       "      <th>0</th>\n",
       "      <td>0.44</td>\n",
       "      <td>0.68</td>\n",
       "      <td>511.14</td>\n",
       "    </tr>\n",
       "    <tr>\n",
       "      <th>1</th>\n",
       "      <td>0.99</td>\n",
       "      <td>0.23</td>\n",
       "      <td>717.10</td>\n",
       "    </tr>\n",
       "    <tr>\n",
       "      <th>2</th>\n",
       "      <td>0.84</td>\n",
       "      <td>0.29</td>\n",
       "      <td>607.91</td>\n",
       "    </tr>\n",
       "    <tr>\n",
       "      <th>3</th>\n",
       "      <td>0.28</td>\n",
       "      <td>0.45</td>\n",
       "      <td>270.40</td>\n",
       "    </tr>\n",
       "    <tr>\n",
       "      <th>4</th>\n",
       "      <td>0.07</td>\n",
       "      <td>0.83</td>\n",
       "      <td>289.88</td>\n",
       "    </tr>\n",
       "    <tr>\n",
       "      <th>...</th>\n",
       "      <td>...</td>\n",
       "      <td>...</td>\n",
       "      <td>...</td>\n",
       "    </tr>\n",
       "    <tr>\n",
       "      <th>95</th>\n",
       "      <td>0.99</td>\n",
       "      <td>0.13</td>\n",
       "      <td>636.22</td>\n",
       "    </tr>\n",
       "    <tr>\n",
       "      <th>96</th>\n",
       "      <td>0.28</td>\n",
       "      <td>0.46</td>\n",
       "      <td>272.12</td>\n",
       "    </tr>\n",
       "    <tr>\n",
       "      <th>97</th>\n",
       "      <td>0.87</td>\n",
       "      <td>0.36</td>\n",
       "      <td>696.65</td>\n",
       "    </tr>\n",
       "    <tr>\n",
       "      <th>98</th>\n",
       "      <td>0.23</td>\n",
       "      <td>0.87</td>\n",
       "      <td>434.53</td>\n",
       "    </tr>\n",
       "    <tr>\n",
       "      <th>99</th>\n",
       "      <td>0.77</td>\n",
       "      <td>0.36</td>\n",
       "      <td>593.86</td>\n",
       "    </tr>\n",
       "  </tbody>\n",
       "</table>\n",
       "<p>100 rows × 3 columns</p>\n",
       "</div>"
      ],
      "text/plain": [
       "    observation  feature   price\n",
       "0          0.44     0.68  511.14\n",
       "1          0.99     0.23  717.10\n",
       "2          0.84     0.29  607.91\n",
       "3          0.28     0.45  270.40\n",
       "4          0.07     0.83  289.88\n",
       "..          ...      ...     ...\n",
       "95         0.99     0.13  636.22\n",
       "96         0.28     0.46  272.12\n",
       "97         0.87     0.36  696.65\n",
       "98         0.23     0.87  434.53\n",
       "99         0.77     0.36  593.86\n",
       "\n",
       "[100 rows x 3 columns]"
      ]
     },
     "execution_count": 25,
     "metadata": {},
     "output_type": "execute_result"
    }
   ],
   "source": [
    "df=pd.read_excel(\"data_final.xlsx\")\n",
    "df\n"
   ]
  },
  {
   "cell_type": "code",
   "execution_count": 26,
   "id": "4d966504",
   "metadata": {},
   "outputs": [
    {
     "data": {
      "text/html": [
       "<div>\n",
       "<style scoped>\n",
       "    .dataframe tbody tr th:only-of-type {\n",
       "        vertical-align: middle;\n",
       "    }\n",
       "\n",
       "    .dataframe tbody tr th {\n",
       "        vertical-align: top;\n",
       "    }\n",
       "\n",
       "    .dataframe thead th {\n",
       "        text-align: right;\n",
       "    }\n",
       "</style>\n",
       "<table border=\"1\" class=\"dataframe\">\n",
       "  <thead>\n",
       "    <tr style=\"text-align: right;\">\n",
       "      <th></th>\n",
       "      <th>observation</th>\n",
       "      <th>feature</th>\n",
       "      <th>price</th>\n",
       "    </tr>\n",
       "  </thead>\n",
       "  <tbody>\n",
       "    <tr>\n",
       "      <th>count</th>\n",
       "      <td>100.000000</td>\n",
       "      <td>100.000000</td>\n",
       "      <td>100.000000</td>\n",
       "    </tr>\n",
       "    <tr>\n",
       "      <th>mean</th>\n",
       "      <td>0.550300</td>\n",
       "      <td>0.501700</td>\n",
       "      <td>554.214600</td>\n",
       "    </tr>\n",
       "    <tr>\n",
       "      <th>std</th>\n",
       "      <td>0.293841</td>\n",
       "      <td>0.307124</td>\n",
       "      <td>347.312796</td>\n",
       "    </tr>\n",
       "    <tr>\n",
       "      <th>min</th>\n",
       "      <td>0.010000</td>\n",
       "      <td>0.000000</td>\n",
       "      <td>42.080000</td>\n",
       "    </tr>\n",
       "    <tr>\n",
       "      <th>25%</th>\n",
       "      <td>0.300000</td>\n",
       "      <td>0.230000</td>\n",
       "      <td>278.172500</td>\n",
       "    </tr>\n",
       "    <tr>\n",
       "      <th>50%</th>\n",
       "      <td>0.570000</td>\n",
       "      <td>0.485000</td>\n",
       "      <td>514.285000</td>\n",
       "    </tr>\n",
       "    <tr>\n",
       "      <th>75%</th>\n",
       "      <td>0.822500</td>\n",
       "      <td>0.760000</td>\n",
       "      <td>751.752500</td>\n",
       "    </tr>\n",
       "    <tr>\n",
       "      <th>max</th>\n",
       "      <td>1.000000</td>\n",
       "      <td>0.990000</td>\n",
       "      <td>1563.820000</td>\n",
       "    </tr>\n",
       "  </tbody>\n",
       "</table>\n",
       "</div>"
      ],
      "text/plain": [
       "       observation     feature        price\n",
       "count   100.000000  100.000000   100.000000\n",
       "mean      0.550300    0.501700   554.214600\n",
       "std       0.293841    0.307124   347.312796\n",
       "min       0.010000    0.000000    42.080000\n",
       "25%       0.300000    0.230000   278.172500\n",
       "50%       0.570000    0.485000   514.285000\n",
       "75%       0.822500    0.760000   751.752500\n",
       "max       1.000000    0.990000  1563.820000"
      ]
     },
     "execution_count": 26,
     "metadata": {},
     "output_type": "execute_result"
    }
   ],
   "source": [
    "df.describe()\n"
   ]
  },
  {
   "cell_type": "code",
   "execution_count": 29,
   "id": "4099fe96",
   "metadata": {},
   "outputs": [
    {
     "name": "stdout",
     "output_type": "stream",
     "text": [
      "<class 'pandas.core.frame.DataFrame'>\n",
      "RangeIndex: 100 entries, 0 to 99\n",
      "Data columns (total 3 columns):\n",
      " #   Column       Non-Null Count  Dtype  \n",
      "---  ------       --------------  -----  \n",
      " 0   observation  100 non-null    float64\n",
      " 1   feature      100 non-null    float64\n",
      " 2   price        100 non-null    float64\n",
      "dtypes: float64(3)\n",
      "memory usage: 2.5 KB\n"
     ]
    }
   ],
   "source": [
    "df.info()"
   ]
  },
  {
   "cell_type": "code",
   "execution_count": 30,
   "id": "c0193700",
   "metadata": {},
   "outputs": [
    {
     "data": {
      "text/plain": [
       "observation     65\n",
       "feature         61\n",
       "price          100\n",
       "dtype: int64"
      ]
     },
     "execution_count": 30,
     "metadata": {},
     "output_type": "execute_result"
    }
   ],
   "source": [
    "df.nunique()"
   ]
  },
  {
   "cell_type": "code",
   "execution_count": 36,
   "id": "714faed8",
   "metadata": {},
   "outputs": [
    {
     "data": {
      "text/plain": [
       "array([[0.68],\n",
       "       [0.23],\n",
       "       [0.29],\n",
       "       [0.45],\n",
       "       [0.83],\n",
       "       [0.8 ],\n",
       "       [0.92],\n",
       "       [0.43],\n",
       "       [0.89],\n",
       "       [0.95],\n",
       "       [0.06],\n",
       "       [0.91],\n",
       "       [0.69],\n",
       "       [0.94],\n",
       "       [0.06],\n",
       "       [0.17],\n",
       "       [0.66],\n",
       "       [0.43],\n",
       "       [0.64],\n",
       "       [0.44],\n",
       "       [0.93],\n",
       "       [0.43],\n",
       "       [0.85],\n",
       "       [0.07],\n",
       "       [0.52],\n",
       "       [0.15],\n",
       "       [0.13],\n",
       "       [0.6 ],\n",
       "       [0.4 ],\n",
       "       [0.65],\n",
       "       [0.17],\n",
       "       [0.97],\n",
       "       [0.04],\n",
       "       [0.53],\n",
       "       [0.85],\n",
       "       [0.69],\n",
       "       [0.22],\n",
       "       [0.15],\n",
       "       [0.02],\n",
       "       [0.91],\n",
       "       [0.76],\n",
       "       [0.19],\n",
       "       [0.62],\n",
       "       [0.17],\n",
       "       [0.69],\n",
       "       [0.76],\n",
       "       [0.23],\n",
       "       [0.96],\n",
       "       [0.03],\n",
       "       [0.23],\n",
       "       [0.11],\n",
       "       [0.87],\n",
       "       [0.97],\n",
       "       [0.25],\n",
       "       [0.58],\n",
       "       [0.42],\n",
       "       [0.24],\n",
       "       [0.62],\n",
       "       [0.15],\n",
       "       [0.95],\n",
       "       [0.64],\n",
       "       [0.64],\n",
       "       [0.4 ],\n",
       "       [0.12],\n",
       "       [0.22],\n",
       "       [0.4 ],\n",
       "       [0.87],\n",
       "       [0.99],\n",
       "       [0.26],\n",
       "       [0.12],\n",
       "       [0.28],\n",
       "       [0.48],\n",
       "       [0.56],\n",
       "       [0.03],\n",
       "       [0.34],\n",
       "       [0.99],\n",
       "       [0.66],\n",
       "       [0.65],\n",
       "       [0.94],\n",
       "       [0.96],\n",
       "       [0.42],\n",
       "       [0.62],\n",
       "       [0.57],\n",
       "       [0.61],\n",
       "       [0.  ],\n",
       "       [0.3 ],\n",
       "       [0.08],\n",
       "       [0.49],\n",
       "       [0.01],\n",
       "       [0.23],\n",
       "       [0.94],\n",
       "       [0.98],\n",
       "       [0.68],\n",
       "       [0.46],\n",
       "       [0.5 ],\n",
       "       [0.13],\n",
       "       [0.46],\n",
       "       [0.36],\n",
       "       [0.87],\n",
       "       [0.36]])"
      ]
     },
     "execution_count": 36,
     "metadata": {},
     "output_type": "execute_result"
    }
   ],
   "source": [
    "# Independent variable\n",
    "X = df.iloc[:,1:-1].values\n",
    "# dependent variable\n",
    "Y = df.iloc[:,-1].values\n",
    "X=X.reshape(-1,1)\n",
    "X"
   ]
  },
  {
   "cell_type": "code",
   "execution_count": 38,
   "id": "b51d2d4e",
   "metadata": {
    "scrolled": true
   },
   "outputs": [
    {
     "data": {
      "text/plain": [
       "array([ 511.14,  717.1 ,  607.91,  270.4 ,  289.88,  830.85, 1038.09,\n",
       "        455.19,  640.17,  511.06,  177.03, 1242.52,  891.37, 1339.72,\n",
       "        169.88,  276.05,  517.43,  522.25,  932.21,  851.25,  640.11,\n",
       "        308.68, 1046.05,  332.4 ,  171.85,  109.55,  361.97,  872.21,\n",
       "        303.7 ,  256.38,  341.2 , 1194.63,  408.6 ,  895.54,  518.25,\n",
       "        638.75,  301.9 ,  163.38,  240.77, 1449.05,  609.  ,  174.59,\n",
       "        593.45,  355.96,  671.46, 1193.7 ,  278.88,  411.4 ,   42.08,\n",
       "        166.19,   58.62,  642.45,  368.14,  702.78,  615.74,  143.79,\n",
       "        109.  ,  328.28,  205.16, 1360.49,  905.83,  487.33,  202.76,\n",
       "        202.01,  148.87,  745.3 ,  503.04, 1563.82,  165.21,  438.4 ,\n",
       "         98.47,  819.63,  174.44,  483.13,  534.24,  572.31,  957.61,\n",
       "        518.29, 1143.49, 1211.31,  784.74,  283.7 ,  684.38,  719.46,\n",
       "        292.23,  775.68,  130.77,  801.6 ,  323.55,  726.9 ,  661.12,\n",
       "        771.11, 1016.14,  237.69,  325.89,  636.22,  272.12,  696.65,\n",
       "        434.53,  593.86])"
      ]
     },
     "execution_count": 38,
     "metadata": {},
     "output_type": "execute_result"
    }
   ],
   "source": [
    "Y"
   ]
  },
  {
   "cell_type": "code",
   "execution_count": null,
   "id": "9741bbec",
   "metadata": {},
   "outputs": [],
   "source": [
    "#Model Building and Training"
   ]
  },
  {
   "cell_type": "code",
   "execution_count": 33,
   "id": "e30501ad",
   "metadata": {},
   "outputs": [],
   "source": [
    "from sklearn.model_selection import train_test_split\n",
    "X_train, X_test ,Y_train, y_test = train_test_split(X,Y,test_size=0.3,random_state = 0)"
   ]
  },
  {
   "cell_type": "code",
   "execution_count": null,
   "id": "f05710df",
   "metadata": {},
   "outputs": [],
   "source": []
  },
  {
   "cell_type": "code",
   "execution_count": 34,
   "id": "a8f18f0d",
   "metadata": {},
   "outputs": [],
   "source": [
    "from sklearn.linear_model import LinearRegression\n",
    "from sklearn.preprocessing import PolynomialFeatures\n",
    "pol_reg=PolynomialFeatures(degree=4)\n",
    "X_pol=pol_reg.fit_transform(X)"
   ]
  },
  {
   "cell_type": "code",
   "execution_count": 39,
   "id": "7c4ed906",
   "metadata": {},
   "outputs": [
    {
     "data": {
      "text/plain": [
       "array([[1.0000000e+00, 6.8000000e-01, 4.6240000e-01, 3.1443200e-01,\n",
       "        2.1381376e-01],\n",
       "       [1.0000000e+00, 2.3000000e-01, 5.2900000e-02, 1.2167000e-02,\n",
       "        2.7984100e-03],\n",
       "       [1.0000000e+00, 2.9000000e-01, 8.4100000e-02, 2.4389000e-02,\n",
       "        7.0728100e-03],\n",
       "       [1.0000000e+00, 4.5000000e-01, 2.0250000e-01, 9.1125000e-02,\n",
       "        4.1006250e-02],\n",
       "       [1.0000000e+00, 8.3000000e-01, 6.8890000e-01, 5.7178700e-01,\n",
       "        4.7458321e-01],\n",
       "       [1.0000000e+00, 8.0000000e-01, 6.4000000e-01, 5.1200000e-01,\n",
       "        4.0960000e-01],\n",
       "       [1.0000000e+00, 9.2000000e-01, 8.4640000e-01, 7.7868800e-01,\n",
       "        7.1639296e-01],\n",
       "       [1.0000000e+00, 4.3000000e-01, 1.8490000e-01, 7.9507000e-02,\n",
       "        3.4188010e-02],\n",
       "       [1.0000000e+00, 8.9000000e-01, 7.9210000e-01, 7.0496900e-01,\n",
       "        6.2742241e-01],\n",
       "       [1.0000000e+00, 9.5000000e-01, 9.0250000e-01, 8.5737500e-01,\n",
       "        8.1450625e-01],\n",
       "       [1.0000000e+00, 6.0000000e-02, 3.6000000e-03, 2.1600000e-04,\n",
       "        1.2960000e-05],\n",
       "       [1.0000000e+00, 9.1000000e-01, 8.2810000e-01, 7.5357100e-01,\n",
       "        6.8574961e-01],\n",
       "       [1.0000000e+00, 6.9000000e-01, 4.7610000e-01, 3.2850900e-01,\n",
       "        2.2667121e-01],\n",
       "       [1.0000000e+00, 9.4000000e-01, 8.8360000e-01, 8.3058400e-01,\n",
       "        7.8074896e-01],\n",
       "       [1.0000000e+00, 6.0000000e-02, 3.6000000e-03, 2.1600000e-04,\n",
       "        1.2960000e-05],\n",
       "       [1.0000000e+00, 1.7000000e-01, 2.8900000e-02, 4.9130000e-03,\n",
       "        8.3521000e-04],\n",
       "       [1.0000000e+00, 6.6000000e-01, 4.3560000e-01, 2.8749600e-01,\n",
       "        1.8974736e-01],\n",
       "       [1.0000000e+00, 4.3000000e-01, 1.8490000e-01, 7.9507000e-02,\n",
       "        3.4188010e-02],\n",
       "       [1.0000000e+00, 6.4000000e-01, 4.0960000e-01, 2.6214400e-01,\n",
       "        1.6777216e-01],\n",
       "       [1.0000000e+00, 4.4000000e-01, 1.9360000e-01, 8.5184000e-02,\n",
       "        3.7480960e-02],\n",
       "       [1.0000000e+00, 9.3000000e-01, 8.6490000e-01, 8.0435700e-01,\n",
       "        7.4805201e-01],\n",
       "       [1.0000000e+00, 4.3000000e-01, 1.8490000e-01, 7.9507000e-02,\n",
       "        3.4188010e-02],\n",
       "       [1.0000000e+00, 8.5000000e-01, 7.2250000e-01, 6.1412500e-01,\n",
       "        5.2200625e-01],\n",
       "       [1.0000000e+00, 7.0000000e-02, 4.9000000e-03, 3.4300000e-04,\n",
       "        2.4010000e-05],\n",
       "       [1.0000000e+00, 5.2000000e-01, 2.7040000e-01, 1.4060800e-01,\n",
       "        7.3116160e-02],\n",
       "       [1.0000000e+00, 1.5000000e-01, 2.2500000e-02, 3.3750000e-03,\n",
       "        5.0625000e-04],\n",
       "       [1.0000000e+00, 1.3000000e-01, 1.6900000e-02, 2.1970000e-03,\n",
       "        2.8561000e-04],\n",
       "       [1.0000000e+00, 6.0000000e-01, 3.6000000e-01, 2.1600000e-01,\n",
       "        1.2960000e-01],\n",
       "       [1.0000000e+00, 4.0000000e-01, 1.6000000e-01, 6.4000000e-02,\n",
       "        2.5600000e-02],\n",
       "       [1.0000000e+00, 6.5000000e-01, 4.2250000e-01, 2.7462500e-01,\n",
       "        1.7850625e-01],\n",
       "       [1.0000000e+00, 1.7000000e-01, 2.8900000e-02, 4.9130000e-03,\n",
       "        8.3521000e-04],\n",
       "       [1.0000000e+00, 9.7000000e-01, 9.4090000e-01, 9.1267300e-01,\n",
       "        8.8529281e-01],\n",
       "       [1.0000000e+00, 4.0000000e-02, 1.6000000e-03, 6.4000000e-05,\n",
       "        2.5600000e-06],\n",
       "       [1.0000000e+00, 5.3000000e-01, 2.8090000e-01, 1.4887700e-01,\n",
       "        7.8904810e-02],\n",
       "       [1.0000000e+00, 8.5000000e-01, 7.2250000e-01, 6.1412500e-01,\n",
       "        5.2200625e-01],\n",
       "       [1.0000000e+00, 6.9000000e-01, 4.7610000e-01, 3.2850900e-01,\n",
       "        2.2667121e-01],\n",
       "       [1.0000000e+00, 2.2000000e-01, 4.8400000e-02, 1.0648000e-02,\n",
       "        2.3425600e-03],\n",
       "       [1.0000000e+00, 1.5000000e-01, 2.2500000e-02, 3.3750000e-03,\n",
       "        5.0625000e-04],\n",
       "       [1.0000000e+00, 2.0000000e-02, 4.0000000e-04, 8.0000000e-06,\n",
       "        1.6000000e-07],\n",
       "       [1.0000000e+00, 9.1000000e-01, 8.2810000e-01, 7.5357100e-01,\n",
       "        6.8574961e-01],\n",
       "       [1.0000000e+00, 7.6000000e-01, 5.7760000e-01, 4.3897600e-01,\n",
       "        3.3362176e-01],\n",
       "       [1.0000000e+00, 1.9000000e-01, 3.6100000e-02, 6.8590000e-03,\n",
       "        1.3032100e-03],\n",
       "       [1.0000000e+00, 6.2000000e-01, 3.8440000e-01, 2.3832800e-01,\n",
       "        1.4776336e-01],\n",
       "       [1.0000000e+00, 1.7000000e-01, 2.8900000e-02, 4.9130000e-03,\n",
       "        8.3521000e-04],\n",
       "       [1.0000000e+00, 6.9000000e-01, 4.7610000e-01, 3.2850900e-01,\n",
       "        2.2667121e-01],\n",
       "       [1.0000000e+00, 7.6000000e-01, 5.7760000e-01, 4.3897600e-01,\n",
       "        3.3362176e-01],\n",
       "       [1.0000000e+00, 2.3000000e-01, 5.2900000e-02, 1.2167000e-02,\n",
       "        2.7984100e-03],\n",
       "       [1.0000000e+00, 9.6000000e-01, 9.2160000e-01, 8.8473600e-01,\n",
       "        8.4934656e-01],\n",
       "       [1.0000000e+00, 3.0000000e-02, 9.0000000e-04, 2.7000000e-05,\n",
       "        8.1000000e-07],\n",
       "       [1.0000000e+00, 2.3000000e-01, 5.2900000e-02, 1.2167000e-02,\n",
       "        2.7984100e-03],\n",
       "       [1.0000000e+00, 1.1000000e-01, 1.2100000e-02, 1.3310000e-03,\n",
       "        1.4641000e-04],\n",
       "       [1.0000000e+00, 8.7000000e-01, 7.5690000e-01, 6.5850300e-01,\n",
       "        5.7289761e-01],\n",
       "       [1.0000000e+00, 9.7000000e-01, 9.4090000e-01, 9.1267300e-01,\n",
       "        8.8529281e-01],\n",
       "       [1.0000000e+00, 2.5000000e-01, 6.2500000e-02, 1.5625000e-02,\n",
       "        3.9062500e-03],\n",
       "       [1.0000000e+00, 5.8000000e-01, 3.3640000e-01, 1.9511200e-01,\n",
       "        1.1316496e-01],\n",
       "       [1.0000000e+00, 4.2000000e-01, 1.7640000e-01, 7.4088000e-02,\n",
       "        3.1116960e-02],\n",
       "       [1.0000000e+00, 2.4000000e-01, 5.7600000e-02, 1.3824000e-02,\n",
       "        3.3177600e-03],\n",
       "       [1.0000000e+00, 6.2000000e-01, 3.8440000e-01, 2.3832800e-01,\n",
       "        1.4776336e-01],\n",
       "       [1.0000000e+00, 1.5000000e-01, 2.2500000e-02, 3.3750000e-03,\n",
       "        5.0625000e-04],\n",
       "       [1.0000000e+00, 9.5000000e-01, 9.0250000e-01, 8.5737500e-01,\n",
       "        8.1450625e-01],\n",
       "       [1.0000000e+00, 6.4000000e-01, 4.0960000e-01, 2.6214400e-01,\n",
       "        1.6777216e-01],\n",
       "       [1.0000000e+00, 6.4000000e-01, 4.0960000e-01, 2.6214400e-01,\n",
       "        1.6777216e-01],\n",
       "       [1.0000000e+00, 4.0000000e-01, 1.6000000e-01, 6.4000000e-02,\n",
       "        2.5600000e-02],\n",
       "       [1.0000000e+00, 1.2000000e-01, 1.4400000e-02, 1.7280000e-03,\n",
       "        2.0736000e-04],\n",
       "       [1.0000000e+00, 2.2000000e-01, 4.8400000e-02, 1.0648000e-02,\n",
       "        2.3425600e-03],\n",
       "       [1.0000000e+00, 4.0000000e-01, 1.6000000e-01, 6.4000000e-02,\n",
       "        2.5600000e-02],\n",
       "       [1.0000000e+00, 8.7000000e-01, 7.5690000e-01, 6.5850300e-01,\n",
       "        5.7289761e-01],\n",
       "       [1.0000000e+00, 9.9000000e-01, 9.8010000e-01, 9.7029900e-01,\n",
       "        9.6059601e-01],\n",
       "       [1.0000000e+00, 2.6000000e-01, 6.7600000e-02, 1.7576000e-02,\n",
       "        4.5697600e-03],\n",
       "       [1.0000000e+00, 1.2000000e-01, 1.4400000e-02, 1.7280000e-03,\n",
       "        2.0736000e-04],\n",
       "       [1.0000000e+00, 2.8000000e-01, 7.8400000e-02, 2.1952000e-02,\n",
       "        6.1465600e-03],\n",
       "       [1.0000000e+00, 4.8000000e-01, 2.3040000e-01, 1.1059200e-01,\n",
       "        5.3084160e-02],\n",
       "       [1.0000000e+00, 5.6000000e-01, 3.1360000e-01, 1.7561600e-01,\n",
       "        9.8344960e-02],\n",
       "       [1.0000000e+00, 3.0000000e-02, 9.0000000e-04, 2.7000000e-05,\n",
       "        8.1000000e-07],\n",
       "       [1.0000000e+00, 3.4000000e-01, 1.1560000e-01, 3.9304000e-02,\n",
       "        1.3363360e-02],\n",
       "       [1.0000000e+00, 9.9000000e-01, 9.8010000e-01, 9.7029900e-01,\n",
       "        9.6059601e-01],\n",
       "       [1.0000000e+00, 6.6000000e-01, 4.3560000e-01, 2.8749600e-01,\n",
       "        1.8974736e-01],\n",
       "       [1.0000000e+00, 6.5000000e-01, 4.2250000e-01, 2.7462500e-01,\n",
       "        1.7850625e-01],\n",
       "       [1.0000000e+00, 9.4000000e-01, 8.8360000e-01, 8.3058400e-01,\n",
       "        7.8074896e-01],\n",
       "       [1.0000000e+00, 9.6000000e-01, 9.2160000e-01, 8.8473600e-01,\n",
       "        8.4934656e-01],\n",
       "       [1.0000000e+00, 4.2000000e-01, 1.7640000e-01, 7.4088000e-02,\n",
       "        3.1116960e-02],\n",
       "       [1.0000000e+00, 6.2000000e-01, 3.8440000e-01, 2.3832800e-01,\n",
       "        1.4776336e-01],\n",
       "       [1.0000000e+00, 5.7000000e-01, 3.2490000e-01, 1.8519300e-01,\n",
       "        1.0556001e-01],\n",
       "       [1.0000000e+00, 6.1000000e-01, 3.7210000e-01, 2.2698100e-01,\n",
       "        1.3845841e-01],\n",
       "       [1.0000000e+00, 0.0000000e+00, 0.0000000e+00, 0.0000000e+00,\n",
       "        0.0000000e+00],\n",
       "       [1.0000000e+00, 3.0000000e-01, 9.0000000e-02, 2.7000000e-02,\n",
       "        8.1000000e-03],\n",
       "       [1.0000000e+00, 8.0000000e-02, 6.4000000e-03, 5.1200000e-04,\n",
       "        4.0960000e-05],\n",
       "       [1.0000000e+00, 4.9000000e-01, 2.4010000e-01, 1.1764900e-01,\n",
       "        5.7648010e-02],\n",
       "       [1.0000000e+00, 1.0000000e-02, 1.0000000e-04, 1.0000000e-06,\n",
       "        1.0000000e-08],\n",
       "       [1.0000000e+00, 2.3000000e-01, 5.2900000e-02, 1.2167000e-02,\n",
       "        2.7984100e-03],\n",
       "       [1.0000000e+00, 9.4000000e-01, 8.8360000e-01, 8.3058400e-01,\n",
       "        7.8074896e-01],\n",
       "       [1.0000000e+00, 9.8000000e-01, 9.6040000e-01, 9.4119200e-01,\n",
       "        9.2236816e-01],\n",
       "       [1.0000000e+00, 6.8000000e-01, 4.6240000e-01, 3.1443200e-01,\n",
       "        2.1381376e-01],\n",
       "       [1.0000000e+00, 4.6000000e-01, 2.1160000e-01, 9.7336000e-02,\n",
       "        4.4774560e-02],\n",
       "       [1.0000000e+00, 5.0000000e-01, 2.5000000e-01, 1.2500000e-01,\n",
       "        6.2500000e-02],\n",
       "       [1.0000000e+00, 1.3000000e-01, 1.6900000e-02, 2.1970000e-03,\n",
       "        2.8561000e-04],\n",
       "       [1.0000000e+00, 4.6000000e-01, 2.1160000e-01, 9.7336000e-02,\n",
       "        4.4774560e-02],\n",
       "       [1.0000000e+00, 3.6000000e-01, 1.2960000e-01, 4.6656000e-02,\n",
       "        1.6796160e-02],\n",
       "       [1.0000000e+00, 8.7000000e-01, 7.5690000e-01, 6.5850300e-01,\n",
       "        5.7289761e-01],\n",
       "       [1.0000000e+00, 3.6000000e-01, 1.2960000e-01, 4.6656000e-02,\n",
       "        1.6796160e-02]])"
      ]
     },
     "execution_count": 39,
     "metadata": {},
     "output_type": "execute_result"
    }
   ],
   "source": [
    "X_pol"
   ]
  },
  {
   "cell_type": "code",
   "execution_count": null,
   "id": "185ace2c",
   "metadata": {},
   "outputs": [],
   "source": [
    "#seaborn plot"
   ]
  },
  {
   "cell_type": "code",
   "execution_count": 45,
   "id": "9135d22e",
   "metadata": {},
   "outputs": [],
   "source": [
    "import seaborn "
   ]
  },
  {
   "cell_type": "code",
   "execution_count": 78,
   "id": "261fab35",
   "metadata": {},
   "outputs": [
    {
     "data": {
      "image/png": "[encoded data removed]",
      "text/plain": [
       "<Figure size 750x750 with 12 Axes>"
      ]
     },
     "metadata": {},
     "output_type": "display_data"
    }
   ],
   "source": [
    "seaborn.pairplot(df)\n",
    "plt.show()"
   ]
  },
  {
   "cell_type": "code",
   "execution_count": null,
   "id": "44fc440f",
   "metadata": {},
   "outputs": [],
   "source": [
    "#LinearRegression"
   ]
  },
  {
   "cell_type": "code",
   "execution_count": 40,
   "id": "51bad988",
   "metadata": {},
   "outputs": [
    {
     "data": {
      "text/plain": [
       "LinearRegression()"
      ]
     },
     "execution_count": 40,
     "metadata": {},
     "output_type": "execute_result"
    }
   ],
   "source": [
    "from sklearn.linear_model import LinearRegression\n",
    "reg=LinearRegression()\n",
    "reg.fit(X,Y)"
   ]
  },
  {
   "cell_type": "code",
   "execution_count": 60,
   "id": "25447421",
   "metadata": {},
   "outputs": [
    {
     "data": {
      "text/plain": [
       "LinearRegression()"
      ]
     },
     "execution_count": 60,
     "metadata": {},
     "output_type": "execute_result"
    }
   ],
   "source": [
    "reg2=LinearRegression()\n",
    "reg2.fit(X_pol,Y)"
   ]
  },
  {
   "cell_type": "code",
   "execution_count": 68,
   "id": "aa9887d3",
   "metadata": {},
   "outputs": [
    {
     "data": {
      "text/plain": [
       "[<matplotlib.lines.Line2D at 0x1704c986ca0>]"
      ]
     },
     "execution_count": 68,
     "metadata": {},
     "output_type": "execute_result"
    },
    {
     "data": {
      "image/png": "[encoded data removed]",
      "text/plain": [
       "<Figure size 640x480 with 1 Axes>"
      ]
     },
     "metadata": {},
     "output_type": "display_data"
    }
   ],
   "source": [
    "plt.scatter(X,Y,color='black')\n",
    "plt.plot(X,reg.predict(X),color='blue')"
   ]
  },
  {
   "cell_type": "code",
   "execution_count": 81,
   "id": "1edef698",
   "metadata": {},
   "outputs": [
    {
     "data": {
      "text/plain": [
       "[<matplotlib.lines.Line2D at 0x1704cb64280>]"
      ]
     },
     "execution_count": 81,
     "metadata": {},
     "output_type": "execute_result"
    },
    {
     "data": {
      "image/png": "[encoded data removed]",
      "text/plain": [
       "<Figure size 640x480 with 1 Axes>"
      ]
     },
     "metadata": {},
     "output_type": "display_data"
    }
   ],
   "source": [
    "plt.scatter(X,Y,color='black')\n",
    "plt.plot(X,reg2.predict(pol_reg.fit_transform(X)),color='orange')"
   ]
  },
  {
   "cell_type": "code",
   "execution_count": null,
   "id": "21ec5e5c",
   "metadata": {},
   "outputs": [],
   "source": []
  }
 ],
 "metadata": {
  "kernelspec": {
   "display_name": "Python 3 (ipykernel)",
   "language": "python",
   "name": "python3"
  },
  "language_info": {
   "codemirror_mode": {
    "name": "ipython",
    "version": 3
   },
   "file_extension": ".py",
   "mimetype": "text/x-python",
   "name": "python",
   "nbconvert_exporter": "python",
   "pygments_lexer": "ipython3",
   "version": "3.9.13"
  }
 },
 "nbformat": 4,
 "nbformat_minor": 5
}
